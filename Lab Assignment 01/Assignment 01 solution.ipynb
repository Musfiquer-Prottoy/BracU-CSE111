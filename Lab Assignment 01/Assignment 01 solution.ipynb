{
 "cells": [
  {
   "cell_type": "code",
   "execution_count": null,
   "metadata": {
    "colab": {
     "base_uri": "https://localhost:8080/"
    },
    "id": "RKj4uEwV72zR",
    "outputId": "24efc8df-0c64-4511-bdf9-287b74481fd3"
   },
   "outputs": [
    {
     "name": "stdout",
     "output_type": "stream",
     "text": [
      "10\n",
      "20\n",
      "20\n",
      "30\n",
      "STOP\n",
      "10 - 1 times\n",
      "20 - 2 times\n",
      "30 - 1 times\n"
     ]
    }
   ],
   "source": [
    "#Task: 01\n",
    "lista = []\n",
    "while True:\n",
    "    u = input()\n",
    "    if u==\"STOP\":\n",
    "        break\n",
    "    lista.append(int(u))\n",
    "\n",
    "track = []\n",
    "for i in range (len(lista)):\n",
    "    if lista[i] not in track:\n",
    "        count = 0\n",
    "        for j in range(len(lista)):\n",
    "            if lista[i] == lista[j]:\n",
    "                count +=1\n",
    "        track.append(lista[i])\n",
    "        print(f\"{track[-1]} - {count} times\")"
   ]
  },
  {
   "cell_type": "code",
   "execution_count": null,
   "metadata": {
    "colab": {
     "base_uri": "https://localhost:8080/"
    },
    "id": "WLRMwLsDXdR2",
    "outputId": "a6a3c4b1-2ebc-48db-8ca0-58f0e024c704"
   },
   "outputs": [
    {
     "name": "stdout",
     "output_type": "stream",
     "text": [
      "Enter the number of lists: 3\n",
      "Enter list {}: 4 5 6\n",
      "Enter list {}: 1 2 3\n",
      "Enter list {}: 2 3 4\n",
      "\n",
      "Highest Sum: 15\n",
      "Highest List: [4, 5, 6]\n"
     ]
    }
   ],
   "source": [
    "#Task: 02\n",
    "n = int(input(\"Enter the number of lists: \"))\n",
    "lists = []\n",
    "\n",
    "for i in range(n):\n",
    "    lst = []\n",
    "    nums = input(\"Enter list {}: \")\n",
    "    nums = nums.split( )\n",
    "    for num in nums:\n",
    "        lst.append(int(num))\n",
    "    lists.append(lst)\n",
    "\n",
    "max_sum = 0\n",
    "max_list = None\n",
    "\n",
    "for lst in lists:\n",
    "    current_sum = 0\n",
    "    for num in lst:\n",
    "        current_sum += num\n",
    "    if current_sum > max_sum:\n",
    "        max_sum = current_sum\n",
    "        max_list = lst\n",
    "\n",
    "print(\"\\nHighest Sum:\", max_sum)\n",
    "print(\"Highest List:\", max_list)"
   ]
  },
  {
   "cell_type": "code",
   "execution_count": null,
   "metadata": {
    "colab": {
     "base_uri": "https://localhost:8080/"
    },
    "id": "9CzTMt1KS9CE",
    "outputId": "30c9552f-1933-4811-b3b5-16d11858aa3b"
   },
   "outputs": [
    {
     "name": "stdout",
     "output_type": "stream",
     "text": [
      "2 3 6\n",
      "3 4 5\n",
      "[6, 8, 10, 9, 12, 15, 18, 24, 30]\n"
     ]
    }
   ],
   "source": [
    "#Task: 03\n",
    "list1 = input().split()\n",
    "list2 = input().split()\n",
    "\n",
    "cross  = []\n",
    "\n",
    "for num1 in list1:\n",
    "    for num2 in list2:\n",
    "        cross.append(int(num1) * int(num2))\n",
    "\n",
    "print(cross)"
   ]
  },
  {
   "cell_type": "code",
   "execution_count": 13,
   "metadata": {
    "colab": {
     "base_uri": "https://localhost:8080/"
    },
    "id": "kzwa8xVG2n01",
    "outputId": "c9ae794a-d8f1-4491-d1d2-0f2a3a9156cb"
   },
   "outputs": [
    {
     "name": "stdout",
     "output_type": "stream",
     "text": [
      "Not UbJumper\n"
     ]
    }
   ],
   "source": [
    "#Task: 04\n",
    "u = '1 4 2 -1 6'\n",
    "u = u.split(' ')\n",
    "l = []\n",
    "for i in range(len(u)):\n",
    "    u[i]= int(u[i])\n",
    "\n",
    "for i in range (len(u)-1):\n",
    "    abs_diff = abs(u[i]-u[i+1])\n",
    "    l.append(abs_diff)\n",
    "\n",
    "N = len(u) - 1\n",
    "isUbJumper = False\n",
    "\n",
    "for i in l:\n",
    "    if i<=N:\n",
    "        isUbJumper = True\n",
    "    else:\n",
    "        isUbJumper = False\n",
    "        break\n",
    "\n",
    "if isUbJumper:\n",
    "    print('UbJumper')\n",
    "else:\n",
    "    print('Not UbJumper')"
   ]
  },
  {
   "cell_type": "code",
   "execution_count": 25,
   "metadata": {
    "colab": {
     "base_uri": "https://localhost:8080/"
    },
    "id": "WIjMYPQ-6Cb4",
    "outputId": "1bed8c8b-089c-4161-d598-83934de61e81"
   },
   "outputs": [
    {
     "name": "stdout",
     "output_type": "stream",
     "text": [
      "acruB1324\n"
     ]
    }
   ],
   "source": [
    "#Task: 05\n",
    "u = 'Bracu1234'\n",
    "\n",
    "l = []\n",
    "up= []\n",
    "o = []\n",
    "e = []\n",
    "\n",
    "for i in u:\n",
    "    if i.islower():\n",
    "        l.append(i)\n",
    "    elif i.isupper():\n",
    "        up.append(i)\n",
    "    else:\n",
    "        if int(i) %2 ==0:\n",
    "            e.append(i)\n",
    "        else:\n",
    "            o.append(i)\n",
    "string = ''.join(sorted(l) + sorted(up) + sorted(o) + sorted(e))\n",
    "print(string)"
   ]
  },
  {
   "cell_type": "code",
   "execution_count": 63,
   "metadata": {
    "colab": {
     "base_uri": "https://localhost:8080/"
    },
    "id": "b5qSEiLmWGbm",
    "outputId": "17f31259-71ae-4e08-8665-49124db336a5"
   },
   "outputs": [
    {
     "name": "stdout",
     "output_type": "stream",
     "text": [
      "number of player: 6\n",
      "player 1:0\n",
      "player 2:0\n",
      "player 3:0\n",
      "player 4:0\n",
      "player 5:0\n",
      "player 6:0\n",
      "How many match they will have to play: 5\n",
      "2 teams can be formed.\n"
     ]
    }
   ],
   "source": [
    "#Task: 06\n",
    "n = int(input('number of player: '))\n",
    "lst = []\n",
    "av_pl = 0\n",
    "for i in range(n):\n",
    "    p = input(f'player {i+1}:')\n",
    "    lst.append(p)\n",
    "\n",
    "attempt = int(input('How many match they will have to play: '))\n",
    "for i in lst:\n",
    "    if int(i)+attempt <= 5:\n",
    "        av_pl += 1\n",
    "print(av_pl//3,'teams can be formed.')"
   ]
  }
 ],
 "metadata": {
  "colab": {
   "provenance": []
  },
  "kernelspec": {
   "display_name": "Python 3 (ipykernel)",
   "language": "python",
   "name": "python3"
  },
  "language_info": {
   "codemirror_mode": {
    "name": "ipython",
    "version": 3
   },
   "file_extension": ".py",
   "mimetype": "text/x-python",
   "name": "python",
   "nbconvert_exporter": "python",
   "pygments_lexer": "ipython3",
   "version": "3.10.12"
  }
 },
 "nbformat": 4,
 "nbformat_minor": 4
}
