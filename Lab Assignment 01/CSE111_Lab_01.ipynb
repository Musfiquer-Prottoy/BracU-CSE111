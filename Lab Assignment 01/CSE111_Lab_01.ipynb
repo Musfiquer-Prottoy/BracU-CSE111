{
  "nbformat": 4,
  "nbformat_minor": 0,
  "metadata": {
    "colab": {
      "provenance": []
    },
    "kernelspec": {
      "name": "python3",
      "display_name": "Python 3"
    },
    "language_info": {
      "name": "python"
    }
  },
  "cells": [
    {
      "cell_type": "code",
      "source": [
        "#Task: 01\n",
        "lista = []\n",
        "while True:\n",
        "    u = input()\n",
        "    if u==\"STOP\":\n",
        "        break\n",
        "    lista.append(int(u))\n",
        "\n",
        "track = []\n",
        "for i in range (len(lista)):\n",
        "    if lista[i] not in track:\n",
        "        count = 0\n",
        "        for j in range(len(lista)):\n",
        "            if lista[i] == lista[j]:\n",
        "                count +=1\n",
        "        track.append(lista[i])\n",
        "        print(f\"{track[-1]} - {count} times\")"
      ],
      "metadata": {
        "colab": {
          "base_uri": "https://localhost:8080/"
        },
        "id": "RKj4uEwV72zR",
        "outputId": "24efc8df-0c64-4511-bdf9-287b74481fd3"
      },
      "execution_count": null,
      "outputs": [
        {
          "output_type": "stream",
          "name": "stdout",
          "text": [
            "10\n",
            "20\n",
            "20\n",
            "30\n",
            "STOP\n",
            "10 - 1 times\n",
            "20 - 2 times\n",
            "30 - 1 times\n"
          ]
        }
      ]
    },
    {
      "cell_type": "code",
      "source": [
        "#Task: 02\n",
        "n = int(input(\"Enter the number of lists: \"))\n",
        "lists = []\n",
        "\n",
        "for i in range(n):\n",
        "    lst = []\n",
        "    nums = input(\"Enter list {}: \")\n",
        "    nums = nums.split( )\n",
        "    for num in nums:\n",
        "        lst.append(int(num))\n",
        "    lists.append(lst)\n",
        "\n",
        "max_sum = 0\n",
        "max_list = None\n",
        "\n",
        "for lst in lists:\n",
        "    current_sum = 0\n",
        "    for num in lst:\n",
        "        current_sum += num\n",
        "    if current_sum > max_sum:\n",
        "        max_sum = current_sum\n",
        "        max_list = lst\n",
        "\n",
        "print(\"\\nHighest Sum:\", max_sum)\n",
        "print(\"Highest List:\", max_list)"
      ],
      "metadata": {
        "colab": {
          "base_uri": "https://localhost:8080/"
        },
        "id": "WLRMwLsDXdR2",
        "outputId": "a6a3c4b1-2ebc-48db-8ca0-58f0e024c704"
      },
      "execution_count": null,
      "outputs": [
        {
          "output_type": "stream",
          "name": "stdout",
          "text": [
            "Enter the number of lists: 3\n",
            "Enter list {}: 4 5 6\n",
            "Enter list {}: 1 2 3\n",
            "Enter list {}: 2 3 4\n",
            "\n",
            "Highest Sum: 15\n",
            "Highest List: [4, 5, 6]\n"
          ]
        }
      ]
    },
    {
      "cell_type": "code",
      "source": [
        "#Task: 03\n",
        "list1 = input().split()\n",
        "list2 = input().split()\n",
        "\n",
        "cross  = []\n",
        "\n",
        "for num1 in list1:\n",
        "    for num2 in list2:\n",
        "        cross.append(int(num1) * int(num2))\n",
        "\n",
        "print(cross)"
      ],
      "metadata": {
        "colab": {
          "base_uri": "https://localhost:8080/"
        },
        "id": "9CzTMt1KS9CE",
        "outputId": "30c9552f-1933-4811-b3b5-16d11858aa3b"
      },
      "execution_count": null,
      "outputs": [
        {
          "output_type": "stream",
          "name": "stdout",
          "text": [
            "2 3 6\n",
            "3 4 5\n",
            "[6, 8, 10, 9, 12, 15, 18, 24, 30]\n"
          ]
        }
      ]
    },
    {
      "cell_type": "code",
      "source": [
        "#Task: 04\n",
        "u = '1 4 2 -1 6'\n",
        "u = u.split(' ')\n",
        "l = []\n",
        "for i in range(len(u)):\n",
        "    u[i]= int(u[i])\n",
        "\n",
        "for i in range (len(u)-1):\n",
        "    abs_diff = abs(u[i]-u[i+1])\n",
        "    l.append(abs_diff)\n",
        "\n",
        "N = len(u) - 1\n",
        "isUbJumper = False\n",
        "\n",
        "for i in l:\n",
        "    if i<=N:\n",
        "        isUbJumper = True\n",
        "    else:\n",
        "        isUbJumper = False\n",
        "        break\n",
        "\n",
        "if isUbJumper:\n",
        "    print('UbJumper')\n",
        "else:\n",
        "    print('Not UbJumper')"
      ],
      "metadata": {
        "colab": {
          "base_uri": "https://localhost:8080/"
        },
        "id": "kzwa8xVG2n01",
        "outputId": "c9ae794a-d8f1-4491-d1d2-0f2a3a9156cb"
      },
      "execution_count": null,
      "outputs": [
        {
          "output_type": "stream",
          "name": "stdout",
          "text": [
            "Not UbJumper\n"
          ]
        }
      ]
    },
    {
      "cell_type": "code",
      "source": [
        "#Task: 05\n",
        "u = 'Bracu1234'\n",
        "\n",
        "l = []\n",
        "up= []\n",
        "o = []\n",
        "e = []\n",
        "\n",
        "for i in u:\n",
        "    if i.islower():\n",
        "        l.append(i)\n",
        "    elif i.isupper():\n",
        "        up.append(i)\n",
        "    else:\n",
        "        if int(i) %2 ==0:\n",
        "            e.append(i)\n",
        "        else:\n",
        "            o.append(i)\n",
        "string = ''.join(sorted(l) + sorted(up) + sorted(o) + sorted(e))\n",
        "print(string)"
      ],
      "metadata": {
        "colab": {
          "base_uri": "https://localhost:8080/"
        },
        "id": "WIjMYPQ-6Cb4",
        "outputId": "1bed8c8b-089c-4161-d598-83934de61e81"
      },
      "execution_count": null,
      "outputs": [
        {
          "output_type": "stream",
          "name": "stdout",
          "text": [
            "acruB1324\n"
          ]
        }
      ]
    },
    {
      "cell_type": "code",
      "source": [
        "#Task: 06\n",
        "n = int(input('number of player: '))\n",
        "lst = []\n",
        "av_pl = 0\n",
        "for i in range(n):\n",
        "    p = input(f'player {i+1}:')\n",
        "    lst.append(p)\n",
        "\n",
        "attempt = int(input('How many match they will have to play: '))\n",
        "for i in lst:\n",
        "    if int(i)+attempt <= 5:\n",
        "        av_pl += 1\n",
        "print(av_pl//3,'teams can be formed.')"
      ],
      "metadata": {
        "colab": {
          "base_uri": "https://localhost:8080/"
        },
        "id": "b5qSEiLmWGbm",
        "outputId": "17f31259-71ae-4e08-8665-49124db336a5"
      },
      "execution_count": null,
      "outputs": [
        {
          "output_type": "stream",
          "name": "stdout",
          "text": [
            "number of player: 6\n",
            "player 1:0\n",
            "player 2:0\n",
            "player 3:0\n",
            "player 4:0\n",
            "player 5:0\n",
            "player 6:0\n",
            "How many match they will have to play: 5\n",
            "2 teams can be formed.\n"
          ]
        }
      ]
    },
    {
      "cell_type": "markdown",
      "source": [
        "#Dictionary"
      ],
      "metadata": {
        "id": "XdyRg82Xz0K1"
      }
    },
    {
      "cell_type": "code",
      "source": [
        "#Task: 01\n",
        "dic1 = eval(input('Please enter dictionary 1:'))\n",
        "dic2 = eval(input('Please enter dictionary 2:'))\n",
        "comdic = {}\n",
        "\n",
        "for key in dic1:\n",
        "    if key in dic2:\n",
        "        comdic[key] = dic1[key] + dic2[key]\n",
        "\n",
        "    else:\n",
        "        comdic[key] = dic1[key]\n",
        "\n",
        "for key in dic2:\n",
        "    if key not in comdic:\n",
        "        comdic[key] = dic2[key]\n",
        "values = []\n",
        "for value in dic1,dic2:\n",
        "    if value not in values:\n",
        "        values.append(value)\n",
        "un_dic = tuple(sorted(set(comdic.values())))\n",
        "print(comdic)\n",
        "print(un_dic)"
      ],
      "metadata": {
        "colab": {
          "base_uri": "https://localhost:8080/"
        },
        "id": "ikPjdyCUU2iD",
        "outputId": "dd3c5873-012e-4aa2-d117-96695dfed82a"
      },
      "execution_count": 3,
      "outputs": [
        {
          "output_type": "stream",
          "name": "stdout",
          "text": [
            "Please enter dictionary 1:{'a': 100, 'b': 100, 'c': 200, 'd': 300}\n",
            "Please enter dictionary 2:{'a': 300, 'b': 200, 'd': 400, 'e': 200}\n",
            "{'a': 400, 'b': 300, 'c': 200, 'd': 700, 'e': 200}\n",
            "(200, 300, 400, 700)\n"
          ]
        }
      ]
    },
    {
      "cell_type": "code",
      "source": [
        "#Task: 02\n",
        "\n",
        "dic = {}\n",
        "\n",
        "while True:\n",
        "    num = input()\n",
        "    if num=='STOP':\n",
        "        break\n",
        "\n",
        "    if num not in dic:\n",
        "        dic[num] = 1\n",
        "    else:\n",
        "        dic[num] +=1\n",
        "\n",
        "for num,count in dic.items():\n",
        "    print(f'{num} - {count} times.')"
      ],
      "metadata": {
        "colab": {
          "base_uri": "https://localhost:8080/"
        },
        "id": "lZaX-pRhNujc",
        "outputId": "9b475172-33e4-4d1a-83b3-a1372f2b45a9"
      },
      "execution_count": null,
      "outputs": [
        {
          "output_type": "stream",
          "name": "stdout",
          "text": [
            "10\n",
            "20\n",
            "10\n",
            "STOP\n",
            "10 - 2 times.\n",
            "20 - 1 times.\n"
          ]
        }
      ]
    },
    {
      "cell_type": "code",
      "source": [
        "#Task: 03\n",
        "dict={}\n",
        "new_dict={}\n",
        "num= int(input(\"How many values: \"))\n",
        "for x in range(num):\n",
        "    k = input(\"Enter KEy: \")\n",
        "    v= input(\"Enter Value: \")\n",
        "    dict[k]=v\n",
        "\n",
        "for key,value in dict.items():\n",
        "    if value not in new_dict:\n",
        "        new_dict[value] = []\n",
        "        new_dict[value].append(key)\n",
        "    else:\n",
        "        new_dict[value].append(key)\n",
        "print(new_dict)"
      ],
      "metadata": {
        "colab": {
          "base_uri": "https://localhost:8080/"
        },
        "id": "OirpAEuKJ9Gf",
        "outputId": "31379a90-9ac8-47a1-e86f-13768cb2ec8c"
      },
      "execution_count": null,
      "outputs": [
        {
          "output_type": "stream",
          "name": "stdout",
          "text": [
            "How many values: 3\n",
            "Enter KEy: key1\n",
            "Enter Value: value1\n",
            "Enter KEy: key2\n",
            "Enter Value: value2\n",
            "Enter KEy: key3\n",
            "Enter Value: value3\n",
            "{'value1': ['key1'], 'value2': ['key2'], 'value3': ['key3']}\n"
          ]
        }
      ]
    },
    {
      "cell_type": "code",
      "source": [
        "#Task: 03\n",
        "dic = {\"key1\": \"value1\", \"key2\": \"value2\", \"key3\": \"value1\"}\n",
        "indic = {}\n",
        "\n",
        "for key, value in dic.items():\n",
        "    if value in indic:\n",
        "        indic[value].append(key)\n",
        "    else:\n",
        "        indic[value] = [key]\n",
        "\n",
        "print(indic)"
      ],
      "metadata": {
        "colab": {
          "base_uri": "https://localhost:8080/"
        },
        "id": "3k24_PKS4LQB",
        "outputId": "63c0444d-e99d-4fc4-9b0f-1c05c8d40be8"
      },
      "execution_count": 6,
      "outputs": [
        {
          "output_type": "stream",
          "name": "stdout",
          "text": [
            "{'value1': ['key1', 'key3'], 'value2': ['key2']}\n"
          ]
        }
      ]
    },
    {
      "cell_type": "code",
      "source": [
        "#Task: 04\n",
        "sentence = input('Please enter your string: ')\n",
        "dic = {}\n",
        "\n",
        "for char in sentence.lower():\n",
        "    if char.isalpha():\n",
        "        if char in dic:\n",
        "            dic[char] += 1\n",
        "        else:\n",
        "            dic[char] = 1\n",
        "print(dic)"
      ],
      "metadata": {
        "colab": {
          "base_uri": "https://localhost:8080/"
        },
        "id": "LdHhnuIn2r9e",
        "outputId": "36d90a8c-ea29-4b5e-d538-8a218adb0c8c"
      },
      "execution_count": 5,
      "outputs": [
        {
          "output_type": "stream",
          "name": "stdout",
          "text": [
            "Please enter your string: Python programming is fun.\n",
            "{'p': 2, 'y': 1, 't': 1, 'h': 1, 'o': 2, 'n': 3, 'r': 2, 'g': 2, 'a': 1, 'm': 2, 'i': 2, 's': 1, 'f': 1, 'u': 1}\n"
          ]
        }
      ]
    },
    {
      "cell_type": "code",
      "source": [
        "#Task: 05\n",
        "str1 = input(\"Enter string1: \")\n",
        "str2 = input(\"Enter string2: \" )\n",
        "len_str1= len(str1)\n",
        "len_str2 = len(str2)\n",
        "\n",
        "an =  True\n",
        "if len_str1==len_str2:\n",
        "    dict1 = {}\n",
        "    dict2 = {}\n",
        "\n",
        "    dict1[1]=str1\n",
        "    dict2[1]=str2\n",
        "    for i in dict1:\n",
        "        string1 = dict1[i]\n",
        "        string2 = dict2[1]\n",
        "        if an == False:\n",
        "            break\n",
        "        for x in range(len(string1)):\n",
        "            if an == False:\n",
        "                break\n",
        "            for j in range(len(string2)):\n",
        "                if string1[x] == string2[j] :\n",
        "                    an = True\n",
        "                    break\n",
        "                else:\n",
        "                    an = False\n",
        "else:\n",
        "    an = False\n",
        "if an == True:\n",
        "    print(\"Those strings are anagram\")\n",
        "else:\n",
        "    print(\"Those strings are not anagram\")"
      ],
      "metadata": {
        "colab": {
          "base_uri": "https://localhost:8080/"
        },
        "id": "mrqcPO3pJDU2",
        "outputId": "cd4f34a2-bc24-4868-fd57-bdb7baaf050e"
      },
      "execution_count": null,
      "outputs": [
        {
          "output_type": "stream",
          "name": "stdout",
          "text": [
            "Enter string1: evil\n",
            "Enter string2: live\n",
            "Those strings are anagram\n"
          ]
        }
      ]
    },
    {
      "cell_type": "code",
      "source": [
        "#Task: 06\n",
        "phone_dic ={\".\":1,\",\":11,\"?\":111,\"!\":1111,\":\":11111,\"A\":2,\"a\":2,\"B\":22,\"b\":22,\"C\":222,\"c\":222,\"D\":3,\"d\":3,\"E\":33,\n",
        " \"e\":33,\"F\":333,\"f\":333,\"G\":4,\"g\":4,\"H\":44,\"h\":44,\"I\":444,\"i\":444,\"J\":5,\"j\":5,\"K\":55,\"k\":55,\"L\":555,\"l\":555,\n",
        " \"M\":6,\"m\":6,\"N\":66,\"n\":66,\"O\":666,\"o\":666,\"P\":7,\"p\":7,\"Q\":77,\"q\":77,\"R\":777,\"r\":777,\"S\":7777,\"s\":7777,\"T\":8,\"t\":8,\n",
        " \"U\":88,\"u\":88,\"V\":888,\"v\":888,\"W\":9,\"w\":9,\"X\":99,\"x\":99,\"y\":999,\"Y\":999,\"Z\":9999,\"z\":9999,\" \":0}\n",
        "\n",
        "user = input(\"Enter Input: \")\n",
        "\n",
        "for val in user:\n",
        "    c = phone_dic.get(val)\n",
        "    print(c,end='')"
      ],
      "metadata": {
        "colab": {
          "base_uri": "https://localhost:8080/"
        },
        "id": "J4DOYxmVG6iP",
        "outputId": "250cc23f-813b-4bbc-eb9b-3c51a3bdbeb1"
      },
      "execution_count": null,
      "outputs": [
        {
          "output_type": "stream",
          "name": "stdout",
          "text": [
            "Enter Input: Hello, World!\n",
            "4433555555666110966677755531111"
          ]
        }
      ]
    }
  ]
}